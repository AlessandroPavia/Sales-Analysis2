{
 "cells": [
  {
   "cell_type": "markdown",
   "id": "692b856e",
   "metadata": {},
   "source": [
    "IMPORT"
   ]
  },
  {
   "cell_type": "code",
   "execution_count": null,
   "id": "76096ef6",
   "metadata": {},
   "outputs": [],
   "source": [
    "import pandas as pd\n",
    "import numpy as np\n",
    "import seaborn as sns\n",
    "import matplotlib.pyplot as plt\n",
    "import plotly.express as px\n"
   ]
  },
  {
   "cell_type": "markdown",
   "id": "6836497e",
   "metadata": {},
   "source": [
    "FUNCTIONS"
   ]
  },
  {
   "cell_type": "code",
   "execution_count": null,
   "id": "2520a1b7",
   "metadata": {},
   "outputs": [],
   "source": [
    "def get_weighted_quantile_bounds(df, colonna, weight, coverage): #Restituisce un intervallo di confidenza simmetrico centrato attorno alla mediana, con un livello di copertura specificato (es. 99%), ponderando i valori tramite una colonna peso\n",
    "    sorted_df = df.sort_values(by=colonna)\n",
    "    cum_weights = sorted_df[weight].cumsum() #Calcola la somma cumulativa dei pesi\n",
    "    total = cum_weights.iloc[-1] #calcola il totale\n",
    "\n",
    "    #determino le soglie dei quantili, cioè se voglio il 99% dei dati, allora la soglia inferiore sarà 0.005 cioè lo 0.5% e la soglia superiore sarà il 0.995 cioè il 99.5%. Così facendo escludo solo l'1% dei dati.\n",
    "    lower_cut = (1 - coverage) / 2\n",
    "    upper_cut = 1 - lower_cut\n",
    "\n",
    "    #Trovo i valori della colonna corrispondenti a quei quantili\n",
    "    lower_bound = sorted_df[sorted_df[weight].cumsum() >= total * lower_cut][colonna].iloc[0] #Trova il primo valore nella colonna dove la somma cumulativa dei pesi supera total * lower_cut\n",
    "    upper_bound = sorted_df[sorted_df[weight].cumsum() >= total * upper_cut][colonna].iloc[0]\n",
    "\n",
    "    return lower_bound, upper_bound"
   ]
  },
  {
   "cell_type": "code",
   "execution_count": null,
   "id": "54f460a1",
   "metadata": {},
   "outputs": [],
   "source": [
    "def trova_outlier_IQR(df, colonna):\n",
    "    Q1 = df[colonna].quantile(0.25)\n",
    "    Q3 = df[colonna].quantile(0.75)\n",
    "    IQR = Q3 - Q1\n",
    "    outliers = df[(df[colonna] < Q1 - 1.5 * IQR) | (df[colonna] > Q3 + 1.5 * IQR)]\n",
    "    return outliers"
   ]
  },
  {
   "cell_type": "markdown",
   "id": "c3f10d37",
   "metadata": {},
   "source": [
    "GET DATA"
   ]
  },
  {
   "cell_type": "code",
   "execution_count": null,
   "id": "186275c0",
   "metadata": {},
   "outputs": [],
   "source": [
    "df_merge_def = pd.read_csv('/Users/alessandropavia/Desktop/Stage Reply/Sales Analysis 2/data/MasterTable.csv', parse_dates=[\"Order Date_def\", \"Ship Date_def\"])\n"
   ]
  },
  {
   "cell_type": "markdown",
   "id": "1578a918",
   "metadata": {},
   "source": [
    "MEDIE, MEDIANE, QUANTILI, VALORI UNICI E COLONNE SULLE DATE AGGIUNTE"
   ]
  },
  {
   "cell_type": "code",
   "execution_count": null,
   "id": "e7a22dd2",
   "metadata": {},
   "outputs": [],
   "source": [
    "Sales_tot=df_merge_def.groupby('State_def')['Sales_def'].sum().round(3)\n",
    "media_per_stato = df_merge_def.groupby('State_def')['Sales_def'].mean().round(3)\n",
    "mediana_per_stato=df_merge_def.groupby('State_def')['Sales_def'].median().round(3)\n",
    "primo_quartile=df_merge_def.groupby('State_def')['Sales_def'].quantile(0.25).round(3)\n",
    "terzo_quartile=df_merge_def.groupby('State_def')['Sales_def'].quantile(0.75).round(3)\n",
    "percentile_95=df_merge_def.groupby('State_def')['Sales_def'].quantile(0.95).round(3)\n",
    "\n",
    "df_statistiche = pd.DataFrame({\n",
    "    'Sales_tot':Sales_tot,\n",
    "    'Sales_mean': media_per_stato,\n",
    "    'Sales_median': mediana_per_stato,\n",
    "    'First quartile':primo_quartile,\n",
    "    'Third quartile':terzo_quartile,\n",
    "    '95_percentile':percentile_95\n",
    "}).reset_index()\n",
    "\n",
    "'''CONTO PER OGNI COLONNA I VALORI UNICI'''\n",
    "for col in df_merge_def.columns: \n",
    "    valori_unici_col = df_merge_def[col].nunique()\n",
    "    print(f\"{col}: {valori_unici_col} valori unici\")\n",
    "\n",
    "print(df_merge_def['Order Date_def'].dtype)\n",
    "\n",
    "'''AGGIUNGO COLONNA MESE, QUARTER, ANNO, DISTANZA IN GIORNI TRA SHIP DATE E ORDER DATE, TIPO DI GIORNO DELL'ORDINE(GIORNO DELLA SETTIMANA O DEL WEEKEND)'''\n",
    "df_merge_def['Order Month'] = df_merge_def['Order Date_def'].dt.month_name()\n",
    "df_merge_def['Order Year'] = df_merge_def['Order Date_def'].dt.year\n",
    "df_merge_def['Order Quarter']=df_merge_def['Order Date_def'].dt.quarter\n",
    "df_merge_def['Days between order date and shipping date']= df_merge_def['Ship Date_def'] - df_merge_def['Order Date_def']\n",
    "df_merge_def['Order Day Type'] = df_merge_def['Order Date_def'].dt.dayofweek.apply(\n",
    "    lambda x: 'Weekend' if x >= 5 else 'Weekday')\n",
    "df_merge_def['Order Week']=df_merge_def['Order Date_def'].dt.isocalendar().week\n",
    "df_merge_def['Order Day of the Week']=df_merge_def['Order Date_def'].dt.day_name()\n"
   ]
  },
  {
   "cell_type": "markdown",
   "id": "7447cf07",
   "metadata": {},
   "source": [
    "ANALISI TEMPORALI SULLE VENDITE "
   ]
  },
  {
   "cell_type": "code",
   "execution_count": null,
   "id": "2d0aec65",
   "metadata": {},
   "outputs": [],
   "source": [
    "'''ISTOGRAMMA CON DIFFERENZA TRA SHIP DATE E ORDER DATE'''\n",
    "df_groupby_days = df_merge_def.groupby('Days between order date and shipping date').size().reset_index(name='counts') #il size conta quante righe ha ciascun gruppo mentre reset_index trasforma la serie in dataframe con la colonna di differenza dei giorni e una colonna counts con le frequenze\n",
    "df_groupby_days['days_diff'] = df_groupby_days['Days between order date and shipping date'].dt.days #estraggo solo il numero dei giorni\n",
    "display(df_groupby_days)\n",
    "plt.figure(figsize=(15,5))\n",
    "sns.histplot(data=df_groupby_days, x='days_diff', weights='counts', bins= 500) #weights significa che ogni valore di \"days_diff\" contribuisce all’istogramma con un peso pari a \"counts\" — quindi se days_diff=2 ha counts=34, verrà trattato come se il valore 2 fosse presente 34 volte.\n",
    "#plt.xlim(-50, 50)  # Zoom su intervallo utile\n",
    "plt.xlabel('Giorni tra ordine e spedizione')\n",
    "plt.ylabel('Numero di ordini')\n",
    "plt.title('Distribuzione giorni tra ordine e spedizione')\n",
    "plt.show() \n",
    "\n",
    "#STESSO GRAFICO MA CON QUANTILI SPECIFICATI\n",
    "p20=df_groupby_days['days_diff'].quantile(0.20)\n",
    "p80=df_groupby_days['days_diff'].quantile(0.80)\n",
    "plt.figure(figsize=(15,5))\n",
    "sns.histplot(data=df_groupby_days, x='days_diff', weights='counts', bins= 500)\n",
    "plt.xlim(p20,p80)  # Zoom su intervallo utile\n",
    "plt.xlabel('Giorni tra ordine e spedizione')\n",
    "plt.ylabel('Numero di ordini')\n",
    "plt.title('Distribuzione giorni tra ordine e spedizione')\n",
    "plt.show()"
   ]
  },
  {
   "cell_type": "code",
   "execution_count": null,
   "id": "39575c5a",
   "metadata": {},
   "outputs": [],
   "source": [
    "'''RENDO AUTOMATICO LA VISUALIZZAZIONE DEL X(COVERAGE) PERCENTUALE DEI DATI'''\n",
    "p0_5, p99_5 = get_weighted_quantile_bounds(df_groupby_days, colonna='days_diff', weight='counts', coverage=0.99)\n",
    "\n",
    "plt.figure(figsize=(15,5))\n",
    "sns.histplot(data=df_groupby_days, x='days_diff', weights='counts', bins=500)\n",
    "plt.xlim(p0_5, p99_5)\n",
    "plt.xlabel('Giorni tra ordine e spedizione')\n",
    "plt.ylabel('Numero di ordini')\n",
    "plt.title('Distribuzione giorni tra ordine e spedizione')\n",
    "plt.show()"
   ]
  },
  {
   "cell_type": "code",
   "execution_count": null,
   "id": "7a8a1e43",
   "metadata": {},
   "outputs": [],
   "source": [
    "'''CLASSIFICA DEI 5 STATI CON PIU' SALES CON SEABORN'''\n",
    "# Trova i top 5 stati\n",
    "top_states2 = df_merge_def.groupby('State_def')['Sales_def'].sum().nlargest(5).index\n",
    "\n",
    "# Filtra solo i dati di quei 5 stati\n",
    "df_top = df_merge_def[df_merge_def['State_def'].isin(top_states2)]\n",
    "\n",
    "# Raggruppa per data e stato\n",
    "df_grouped4 = df_top.groupby(['Order Date_def', 'State_def'])['Sales_def'].sum().reset_index()\n",
    "\n",
    "# Grafico lineplot\n",
    "plt.figure(figsize=(14,6))\n",
    "sns.lineplot(data=df_grouped4,\n",
    "             x='Order Date_def',\n",
    "             y='Sales_def',\n",
    "             hue='State_def') #hue serve a specificare la colonna con lo stato colorato in modo diverso\n",
    "\n",
    "plt.title('Vendite totali per i 5 stati principali')\n",
    "plt.xlabel('Data')\n",
    "plt.ylabel('Vendite')\n",
    "plt.xticks(rotation=45)\n",
    "plt.tight_layout()\n",
    "plt.show()"
   ]
  },
  {
   "cell_type": "code",
   "execution_count": null,
   "id": "688727e8",
   "metadata": {},
   "outputs": [],
   "source": [
    "'''ANALISI STAGIONALE/CICLICA SULLE VENDITE'''\n",
    "\n",
    "#ANALISI MENSILE\n",
    "ordine_mesi=['January','February','March','April','May','June','July','August','September','October','November','December']\n",
    "df_merge_def['Order Month'] = pd.Categorical(\n",
    "    df_merge_def['Order Month'],\n",
    "    categories=ordine_mesi,\n",
    "    ordered=True\n",
    ")\n",
    "media_mensile = df_merge_def.groupby('Order Month')['Sales_def'].mean()\n",
    "\n",
    "plt.figure(figsize=(15, 5))\n",
    "plt.plot(media_mensile.index, media_mensile.values, marker='o')\n",
    "plt.title('Media delle vendite per mese')\n",
    "plt.xlabel('Mesi')\n",
    "plt.ylabel('Media delle vendite (€)')\n",
    "plt.grid(True)\n",
    "plt.xticks(media_mensile.index)  # Per mostrare tutti i mesi se sono numeri 1-12\n",
    "plt.show()\n",
    "\n",
    "\n",
    "\n",
    "#ANALISI SETTIMANALE\n",
    "ordine_giorni=['Monday','Tuesday','Wednesday','Thursday','Friday','Saturday','Sunday']\n",
    "df_merge_def['Order Day of the Week'] = pd.Categorical(\n",
    "    df_merge_def['Order Day of the Week'],\n",
    "    categories=ordine_giorni,\n",
    "    ordered=True\n",
    ")\n",
    "media_settimanale=df_merge_def.groupby('Order Day of the Week')['Sales_def'].mean()\n",
    "\n",
    "plt.figure(figsize=(15,5))\n",
    "plt.plot(media_settimanale.index, media_settimanale.values, marker='o', color='green')\n",
    "plt.title('Media delle vendite per giorno della settimana')\n",
    "plt.xlabel('Giorni della settimana')\n",
    "plt.ylabel('Media delle vendite(€)')\n",
    "plt.grid(True)\n",
    "plt.show\n",
    "\n"
   ]
  },
  {
   "cell_type": "code",
   "execution_count": null,
   "id": "96a23db1",
   "metadata": {},
   "outputs": [],
   "source": [
    "'''PREZZO MEDIO NEL TEMPO PER CATEGORIA DI PRODOTTO'''\n",
    "df_merge_def['Price Single Product']=df_merge_def['Sales_def'] / df_merge_def['Quantity_def'] #mi trovo il prezzo del singolo prodotto\n",
    "\n",
    "prezzo_per_cat=df_merge_def.groupby(['Category_def', 'Order Date_def'])['Price Single Product'].mean().reset_index()\n",
    "\n",
    "plt.figure(figsize=(15,5))\n",
    "sns.lineplot(data=prezzo_per_cat, x='Order Date_def', y='Price Single Product', hue='Category_def') #hue serve per colorare le linee\n",
    "plt.title('Prezzo medio nel tempo per categoria di prodotto')\n",
    "plt.xlabel('Data')\n",
    "plt.ylabel('Prezzo medio')\n",
    "plt.show"
   ]
  },
  {
   "cell_type": "code",
   "execution_count": null,
   "id": "7079393c",
   "metadata": {},
   "outputs": [],
   "source": [
    "'''IMPORTO MEDIO PER ORDINE NEL TEMPO'''\n",
    "importo_medio_per_ordine=df_merge_def.groupby(['Order Date_def'])['Sales_def'].mean().reset_index()\n",
    "\n",
    "plt.figure(figsize=(15,5))\n",
    "plt.bar(importo_medio_per_ordine['Order Date_def'], importo_medio_per_ordine['Sales_def'], width=5)\n",
    "plt.xlabel('Date')\n",
    "plt.ylabel('Importo medio per ordine')\n",
    "plt.show"
   ]
  },
  {
   "cell_type": "code",
   "execution_count": null,
   "id": "2278db8f",
   "metadata": {},
   "outputs": [],
   "source": [
    "'''NUMERO DI ORDINI DIVERSI PER CIASCUNO STATO PER MESE'''\n",
    "df_merge_def['Order Month'] = pd.Categorical(\n",
    "    df_merge_def['Order Month'],\n",
    "    categories=ordine_mesi,\n",
    "    ordered=True\n",
    ")\n",
    "ordini_geo = df_merge_def.groupby(['State_def', 'Order Month'])['Order ID'].nunique().unstack(fill_value=0) #\"Srotola\" i mesi (Order Month) in colonne. Il risultato è una matrice con: Righe = Stati, Colonne = Mesi, Celle = Numero di ordini unic\n",
    "\n",
    "# 3. Plot della heatmap\n",
    "plt.figure(figsize=(15, 15))\n",
    "sns.heatmap(ordini_geo, cmap='YlOrRd', linewidths=0.3) #cmap specifica la scala di colori, in questo caso: yellow(Yl), orange(Or) e red(Rd)\n",
    "plt.title('Numero di ordini nel tempo per stato geografico')\n",
    "plt.xlabel('Mese')\n",
    "plt.ylabel('Stato')\n",
    "plt.xticks(rotation=45)\n",
    "plt.tight_layout()\n",
    "plt.show()"
   ]
  },
  {
   "cell_type": "markdown",
   "id": "1a2eebf6",
   "metadata": {},
   "source": [
    "ANALISI GEOGRAFICHE SULLE VENDITE"
   ]
  },
  {
   "cell_type": "code",
   "execution_count": null,
   "id": "e82d0403",
   "metadata": {},
   "outputs": [],
   "source": [
    "'''ANALISI SALES PER CIASCUNO STATO AMERICANO CON MAPPA USA'''\n",
    "\n",
    "state_to_code = {\n",
    "    'ALABAMA': 'AL', 'ALASKA': 'AK', 'ARIZONA': 'AZ', 'ARKANSAS': 'AR',\n",
    "    'CALIFORNIA': 'CA', 'COLORADO': 'CO', 'CONNECTICUT': 'CT', 'DELAWARE': 'DE',\n",
    "    'FLORIDA': 'FL', 'GEORGIA': 'GA', 'HAWAII': 'HI', 'IDAHO': 'ID',\n",
    "    'ILLINOIS': 'IL', 'INDIANA': 'IN', 'IOWA': 'IA', 'KANSAS': 'KS',\n",
    "    'KENTUCKY': 'KY', 'LOUISIANA': 'LA', 'MAINE': 'ME', 'MARYLAND': 'MD',\n",
    "    'MASSACHUSETTS': 'MA', 'MICHIGAN': 'MI', 'MINNESOTA': 'MN', 'MISSISSIPPI': 'MS',\n",
    "    'MISSOURI': 'MO', 'MONTANA': 'MT', 'NEBRASKA': 'NE', 'NEVADA': 'NV',\n",
    "    'NEW HAMPSHIRE': 'NH', 'NEW JERSEY': 'NJ', 'NEW MEXICO': 'NM',\n",
    "    'NEW YORK': 'NY', 'NORTH CAROLINA': 'NC', 'NORTH DAKOTA': 'ND',\n",
    "    'OHIO': 'OH', 'OKLAHOMA': 'OK', 'OREGON': 'OR', 'PENNSYLVANIA': 'PA',\n",
    "    'RHODE ISLAND': 'RI', 'SOUTH CAROLINA': 'SC', 'SOUTH DAKOTA': 'SD',\n",
    "    'TENNESSEE': 'TN', 'TEXAS': 'TX', 'UTAH': 'UT', 'VERMONT': 'VT',\n",
    "    'VIRGINIA': 'VA', 'WASHINGTON': 'WA', 'WEST VIRGINIA': 'WV',\n",
    "    'WISCONSIN': 'WI', 'WYOMING': 'WY'\n",
    "}\n",
    "\n",
    "df_state_sales = df_merge_def.groupby('State_def')['Sales_def'].sum().reset_index()\n",
    "df_state_sales['state_code'] = df_state_sales['State_def'].map(state_to_code) #funziona solo con gli stati scritti come sigle, quindi è necessario fare questa mappatura\n",
    "\n",
    "fig = px.choropleth(        #mappa coropletica interattiva\n",
    "    df_state_sales,\n",
    "    locations='state_code',         # Colonna con la sigla dello stato\n",
    "    locationmode='USA-states', # locationmode specifica che il comando locations contiene le sigle degli stati(e non il nome completo)\n",
    "    color='Sales_def',             # Variabile da usare per colorare gli stati\n",
    "    scope='usa',               # scope serve per specificare che serve solo la mappa USA e non del mondo intero\n",
    "    color_continuous_scale='Turbo', #questo comando serve per la scala di colori da usare\n",
    "    title='Vendite per Stato'\n",
    ")\n",
    "fig.show()\n"
   ]
  },
  {
   "cell_type": "code",
   "execution_count": null,
   "id": "f411ebf4",
   "metadata": {},
   "outputs": [],
   "source": [
    "'''ANALISI SALES PER CIASCUN STATO CON BOXPLOT'''\n",
    "plt.figure(figsize=(10,15))\n",
    "df_sorted = df_merge_def.sort_values(by='State_def')\n",
    "sns.boxplot(data=df_sorted, x='Sales_def',y='State_def', whis=(5,95), showfliers=False)\n",
    "#plt.xticks(rotation=90)\n",
    "plt.title('Vendite per stato')\n",
    "plt.xlabel('Vendite')\n",
    "plt.ylabel('Stati')\n",
    "plt.show()"
   ]
  },
  {
   "cell_type": "code",
   "execution_count": null,
   "id": "1750edb5",
   "metadata": {},
   "outputs": [],
   "source": [
    "'''BOXPLOT CON MATPLOTLIB'''\n",
    "\n",
    "# 1. Prepara i dati: una lista di liste, una per ogni stato\n",
    "dati_per_stato = [group['Sales_def'].values for name, group in df_merge_def.groupby('State_def')]\n",
    "\n",
    "# 2. Prendi i nomi degli stati per etichettare l'asse X\n",
    "nomi_stati = df_merge_def['State_def'].sort_values().unique()\n",
    "\n",
    "# 3. Crea il boxplot\n",
    "plt.figure(figsize=(15, 6))\n",
    "plt.boxplot(dati_per_stato, showfliers=False, whis=(5, 95))\n",
    "plt.xticks(ticks=range(1, len(nomi_stati)+1), labels=nomi_stati, rotation=90) #ticks specifica dove posizionare le etichette sull'asse x, labels=noim_stati Assegna a ciascun tick la sua etichetta testuale, rotation ruota le etichette di 90 gradi, cioè le mette verticali\n",
    "plt.title(\"Distribuzione delle vendite per stato\")\n",
    "plt.xlabel(\"Stato\")\n",
    "plt.ylabel(\"Vendite\")\n",
    "#plt.tight_layout()\n",
    "plt.show()"
   ]
  },
  {
   "cell_type": "code",
   "execution_count": null,
   "id": "d05e543d",
   "metadata": {},
   "outputs": [],
   "source": [
    "'''ANALISI SALES IN BASE ALLO SHIP MODE'''\n",
    "vendite_per_ship_mode=df_merge_def.groupby('Ship Mode_def')['Sales_def'].sum().reset_index()\n",
    "plt.figure(figsize=(15,5))\n",
    "plt.pie(\n",
    "    vendite_per_ship_mode['Sales_def'], #valori\n",
    "    labels=vendite_per_ship_mode['Ship Mode_def'], #etichette\n",
    "    autopct='%1.1f%%', #percentuale con un numero decimale\n",
    "    startangle=90, #angolo di partenza\n",
    "    colors=plt.cm.Paired.colors \n",
    ")\n",
    "plt.title('Distribuzione delle vendite in base alla modalità di spedizione')\n",
    "plt.axis('equal')  # Per avere la torta rotonda\n",
    "plt.show()"
   ]
  },
  {
   "cell_type": "code",
   "execution_count": null,
   "id": "15b01fef",
   "metadata": {},
   "outputs": [],
   "source": [
    "'''ANALISI DEI CLIENTI IN TERMINI DI NUMERO DI ORDINI, VALORE MEDIO DELL'ORDINE E SPESA TOTALE DELL'ORDINE'''\n",
    "df_clienti = df_merge_def.groupby('Customer ID_def').agg(\n",
    "    avg_order_value=('Sales_def', 'mean'),\n",
    "    order_count=('Order ID', 'nunique'),\n",
    "    total_spent=('Sales_def', 'sum')\n",
    ").reset_index()\n",
    "\n",
    "plt.figure(figsize=(12, 8))\n",
    "# Bubble plot: usa 'size' per indicare la spesa totale\n",
    "sns.scatterplot(\n",
    "    data=df_clienti,\n",
    "    x='avg_order_value',\n",
    "    y='order_count',\n",
    "    size='total_spent',\n",
    "    hue='total_spent',\n",
    "    palette='viridis', #questi sono i colori\n",
    "    sizes=(50, 1000),  # Dimensioni min e max delle bolle\n",
    "    alpha=0.6, #alpha viene usato per definire il livello di opacità-> alpha=1 signifca che è completamente opaco, alpha=0.6 significa che 0.6 opaco e 0.4 trasparente\n",
    "    legend='brief' #La legenda mostra sia dimensione che colore se legend='brief' è attivo\n",
    ")\n",
    "\n",
    "plt.title('Clienti: valore medio ordine vs frequenza (dimensione = spesa totale)')\n",
    "plt.xlabel('Valore medio per ordine (€)')\n",
    "plt.ylabel('Numero di ordini')\n",
    "plt.legend(title='Totale speso (€)', bbox_to_anchor=(1.05, 1), loc='upper left')\n",
    "plt.tight_layout()\n",
    "plt.grid(True)\n",
    "plt.show()"
   ]
  },
  {
   "cell_type": "code",
   "execution_count": null,
   "id": "933767a8",
   "metadata": {},
   "outputs": [],
   "source": [
    "'''ANALISI DEL PREZZO DEI SINGOLI PRODOTTI ACQUISTATI IN BASE AL SEGMENTO DI CLIENTE '''\n",
    "plt.figure(figsize=(10, 6))\n",
    "sns.violinplot(\n",
    "    data=df_merge_def,\n",
    "    x='Segment_def', \n",
    "    y='Price Single Product',\n",
    "    palette='Set2',\n",
    "    inner='box',       # mostra anche il boxplot centrale\n",
    "    scale='width'      # i violini sono scalati in larghezza rispetto alla densità\n",
    ")\n",
    "\n",
    "plt.title('Distribuzione del prezzo per singolo prodotto per tipo di cliente')\n",
    "plt.xlabel('Tipo di Cliente')\n",
    "plt.ylabel('Prezzo Singolo Prodotto (€)')\n",
    "plt.tight_layout()\n",
    "plt.show()\n",
    "\n",
    "\n",
    "'''Guardo solo per i prezzi inferiori a 500€'''\n",
    "df_filtrato=df_merge_def[df_merge_def['Price Single Product'] <= 500]\n",
    "plt.figure(figsize=(10, 6))\n",
    "sns.violinplot(\n",
    "    data=df_filtrato,\n",
    "    x='Segment_def', \n",
    "    y='Price Single Product',\n",
    "    palette='Set2',\n",
    "    inner='box',       \n",
    "    scale='width')      \n",
    "\n",
    "plt.title('Distribuzione del prezzo per singolo prodotto per tipo di cliente')\n",
    "plt.xlabel('Tipo di Cliente')\n",
    "plt.ylabel('Prezzo Singolo Prodotto (€)')\n",
    "plt.tight_layout()\n",
    "plt.show()"
   ]
  },
  {
   "cell_type": "markdown",
   "id": "1243e645",
   "metadata": {},
   "source": [
    "ANALISI SCONTO"
   ]
  },
  {
   "cell_type": "code",
   "execution_count": null,
   "id": "7b7550c2",
   "metadata": {},
   "outputs": [],
   "source": [
    "#domanda: maggiore lo sconto maggiore sono le vendite?\n",
    "\n",
    "d001=df_merge_def['Discount_def'].quantile(0.001)\n",
    "d999=df_merge_def['Discount_def'].quantile(0.999)\n",
    "s0005=df_merge_def['Sales_def'].quantile(0.0005)\n",
    "s9995=df_merge_def['Sales_def'].quantile(0.9995)\n",
    "display(df_merge_def.loc[df_merge_def['Discount_def']>3])\n",
    "\n",
    "plt.figure(figsize=(10,5))\n",
    "sns.scatterplot(data=df_merge_def, x='Discount_def', y='Sales_def', hue='Category_def' ,markers=True)\n",
    "plt.xlim(d001,d999)  # Zoom su intervallo x utile\n",
    "plt.ylim(s0005,s9995)  # Zoom su intervallo y utile\n",
    "plt.xlabel('Sconto effettuato')\n",
    "plt.ylabel('Vendite')\n",
    "plt.show()"
   ]
  },
  {
   "cell_type": "code",
   "execution_count": null,
   "id": "153a60c6",
   "metadata": {},
   "outputs": [],
   "source": [
    "'''RELAZIONE SCONTO-QUANTITA'''\n",
    "q5=df_merge_def['Quantity_def'].quantile(0.005)\n",
    "q95=df_merge_def['Quantity_def'].quantile(0.9995)\n",
    "\n",
    "d10=df_merge_def['Discount_def'].quantile(0.005)\n",
    "d90=df_merge_def['Discount_def'].quantile(0.995)\n",
    "\n",
    "plt.figure(figsize=(10,7))\n",
    "sns.scatterplot(data=df_merge_def, x='Discount_def', y='Quantity_def', hue='Category_def' ,markers=True, palette='tab10', alpha=0.8)\n",
    "plt.xlim(d10,d90)\n",
    "plt.ylim(q5,q95)  # Zoom su intervallo utile\n",
    "plt.xlabel('Sconto effettuato')\n",
    "plt.ylabel('Quantità vendute')\n",
    "plt.show()"
   ]
  },
  {
   "cell_type": "code",
   "execution_count": null,
   "id": "8c28d0ac",
   "metadata": {},
   "outputs": [],
   "source": [
    "'''SCONTO VS PROFITTO'''\n",
    "plt.figure(figsize=(10,5))\n",
    "p10=df_merge_def['Profit_def'].quantile(0.10)\n",
    "p90=df_merge_def['Profit_def'].quantile(0.90)\n",
    "sns.scatterplot(data=df_merge_def, x='Discount_def', y='Profit_def', hue='Segment_def')\n",
    "plt.xlim(d001,d999)\n",
    "#plt.ylim(p10,p90)\n",
    "plt.title('Sconto vs Profitto')\n",
    "plt.show"
   ]
  }
 ],
 "metadata": {
  "kernelspec": {
   "display_name": "env",
   "language": "python",
   "name": "python3"
  },
  "language_info": {
   "codemirror_mode": {
    "name": "ipython",
    "version": 3
   },
   "file_extension": ".py",
   "mimetype": "text/x-python",
   "name": "python",
   "nbconvert_exporter": "python",
   "pygments_lexer": "ipython3",
   "version": "3.10.7"
  }
 },
 "nbformat": 4,
 "nbformat_minor": 5
}
